{
 "cells": [
  {
   "cell_type": "markdown",
   "metadata": {},
   "source": [
    "# Задание 2"
   ]
  },
  {
   "cell_type": "markdown",
   "metadata": {},
   "source": [
    "Задание выполнено на Python 3.8"
   ]
  },
  {
   "cell_type": "markdown",
   "metadata": {},
   "source": [
    "Импорт пакетов для обработки и визуализации данных"
   ]
  },
  {
   "cell_type": "code",
   "execution_count": 23,
   "metadata": {},
   "outputs": [],
   "source": [
    "import pandas as pd\n",
    "import plotly.express as px"
   ]
  },
  {
   "cell_type": "markdown",
   "metadata": {},
   "source": [
    "Для удобства просмотра информации задаем параметр при просмотре таблиц - до 6 столбцов:"
   ]
  },
  {
   "cell_type": "code",
   "execution_count": 24,
   "metadata": {},
   "outputs": [],
   "source": [
    "pd.set_option('display.max_columns',6)"
   ]
  },
  {
   "cell_type": "markdown",
   "metadata": {},
   "source": [
    "Загружаем данные из файла формата csv в таблицу:"
   ]
  },
  {
   "cell_type": "code",
   "execution_count": 25,
   "metadata": {},
   "outputs": [],
   "source": [
    "df = pd.read_csv(r'https://raw.githubusercontent.com/xssokolova/profi/master/countries%20of%20the%20world.csv')"
   ]
  },
  {
   "cell_type": "markdown",
   "metadata": {},
   "source": [
    "## Предварительный анализ"
   ]
  },
  {
   "cell_type": "markdown",
   "metadata": {},
   "source": [
    "Таблица состоит из 227 строк и 20 колонок, используется тип данных: float64 - 1 переменная, int64 - 2 переменные, object - 17 переменных."
   ]
  },
  {
   "cell_type": "code",
   "execution_count": 26,
   "metadata": {},
   "outputs": [
    {
     "name": "stdout",
     "output_type": "stream",
     "text": [
      "<class 'pandas.core.frame.DataFrame'>\n",
      "RangeIndex: 227 entries, 0 to 226\n",
      "Data columns (total 20 columns):\n",
      " #   Column                              Non-Null Count  Dtype  \n",
      "---  ------                              --------------  -----  \n",
      " 0   Country                             227 non-null    object \n",
      " 1   Region                              227 non-null    object \n",
      " 2   Population                          227 non-null    int64  \n",
      " 3   Area (sq. mi.)                      227 non-null    int64  \n",
      " 4   Pop. Density (per sq. mi.)          227 non-null    object \n",
      " 5   Coastline (coast/area ratio)        227 non-null    object \n",
      " 6   Net migration                       224 non-null    object \n",
      " 7   Infant mortality (per 1000 births)  224 non-null    object \n",
      " 8   GDP ($ per capita)                  226 non-null    float64\n",
      " 9   Literacy (%)                        209 non-null    object \n",
      " 10  Phones (per 1000)                   223 non-null    object \n",
      " 11  Arable (%)                          225 non-null    object \n",
      " 12  Crops (%)                           225 non-null    object \n",
      " 13  Other (%)                           225 non-null    object \n",
      " 14  Climate                             205 non-null    object \n",
      " 15  Birthrate                           224 non-null    object \n",
      " 16  Deathrate                           223 non-null    object \n",
      " 17  Agriculture                         212 non-null    object \n",
      " 18  Industry                            211 non-null    object \n",
      " 19  Service                             212 non-null    object \n",
      "dtypes: float64(1), int64(2), object(17)\n",
      "memory usage: 20.5+ KB\n",
      "None\n"
     ]
    }
   ],
   "source": [
    "print(df.info())"
   ]
  },
  {
   "cell_type": "markdown",
   "metadata": {},
   "source": [
    "  Часть столбцов содержит нулевые значения от 0,4% до 9.7% от всей информации в столбце."
   ]
  },
  {
   "cell_type": "code",
   "execution_count": 27,
   "metadata": {},
   "outputs": [
    {
     "name": "stdout",
     "output_type": "stream",
     "text": [
      "Country 0.0\n",
      "Region 0.0\n",
      "Population 0.0\n",
      "Area (sq. mi.) 0.0\n",
      "Pop. Density (per sq. mi.) 0.0\n",
      "Coastline (coast/area ratio) 0.0\n",
      "Net migration 1.3\n",
      "Infant mortality (per 1000 births) 1.3\n",
      "GDP ($ per capita) 0.4\n",
      "Literacy (%) 7.9\n",
      "Phones (per 1000) 1.8\n",
      "Arable (%) 0.9\n",
      "Crops (%) 0.9\n",
      "Other (%) 0.9\n",
      "Climate 9.7\n",
      "Birthrate 1.3\n",
      "Deathrate 1.8\n",
      "Agriculture 6.6\n",
      "Industry 7.0\n",
      "Service 6.6\n"
     ]
    }
   ],
   "source": [
    "for col in df.columns:\n",
    "    print(col, round((df[col].isnull().sum()/len(df[col])*100), 1))"
   ]
  },
  {
   "cell_type": "markdown",
   "metadata": {},
   "source": [
    "Создаем новую таблицу,в которой останутся только те колонки, которые нужны для выполнения задания."
   ]
  },
  {
   "cell_type": "code",
   "execution_count": 28,
   "metadata": {},
   "outputs": [],
   "source": [
    "data = df.filter(['Country','Region','Population', 'Area (sq. mi.)', 'Net migration', 'Literacy (%)'], axis=1)"
   ]
  },
  {
   "cell_type": "markdown",
   "metadata": {},
   "source": [
    "Переименуем названия столбцов, чтобы их было удобно использовать для обращения к ним через функции."
   ]
  },
  {
   "cell_type": "code",
   "execution_count": 29,
   "metadata": {},
   "outputs": [],
   "source": [
    "data.columns=['country', 'region', 'population', 'area', 'migration', 'literacy']"
   ]
  },
  {
   "cell_type": "markdown",
   "metadata": {},
   "source": [
    "Поменяем тип данных:"
   ]
  },
  {
   "cell_type": "code",
   "execution_count": 30,
   "metadata": {},
   "outputs": [],
   "source": [
    "data.country = data.country.astype('category')\n",
    "data.region = data.region.astype('category')\n",
    "data.migration = data.migration.str.replace(\",\",\".\").astype(float)\n",
    "data.literacy = data.literacy.str.replace(\",\",\".\").astype(float)"
   ]
  },
  {
   "cell_type": "markdown",
   "metadata": {},
   "source": [
    "Проведем предварительный анализ таблицы \"data\" после внесенных нами изменений:"
   ]
  },
  {
   "cell_type": "code",
   "execution_count": 31,
   "metadata": {},
   "outputs": [
    {
     "name": "stdout",
     "output_type": "stream",
     "text": [
      "<class 'pandas.core.frame.DataFrame'>\n",
      "RangeIndex: 227 entries, 0 to 226\n",
      "Data columns (total 6 columns):\n",
      " #   Column      Non-Null Count  Dtype   \n",
      "---  ------      --------------  -----   \n",
      " 0   country     227 non-null    category\n",
      " 1   region      227 non-null    category\n",
      " 2   population  227 non-null    int64   \n",
      " 3   area        227 non-null    int64   \n",
      " 4   migration   224 non-null    float64 \n",
      " 5   literacy    209 non-null    float64 \n",
      "dtypes: category(2), float64(2), int64(2)\n",
      "memory usage: 14.9 KB\n",
      "None\n"
     ]
    }
   ],
   "source": [
    "print(data.info())"
   ]
  },
  {
   "cell_type": "markdown",
   "metadata": {},
   "source": [
    "Тип данных: category(2), float64(2), int64(2)."
   ]
  },
  {
   "cell_type": "markdown",
   "metadata": {},
   "source": [
    "В колонках \"migration\" и \"literacy\" есть нулевые значения (1.3% в migration и 7.9% в \"literacy\")."
   ]
  },
  {
   "cell_type": "code",
   "execution_count": 32,
   "metadata": {},
   "outputs": [
    {
     "name": "stdout",
     "output_type": "stream",
     "text": [
      "country 0.0\n",
      "region 0.0\n",
      "population 0.0\n",
      "area 0.0\n",
      "migration 1.3\n",
      "literacy 7.9\n"
     ]
    }
   ],
   "source": [
    "for col in data.columns:\n",
    "    print(col, round((data[col].isnull().sum()/len(data[col])*100), 1))"
   ]
  },
  {
   "cell_type": "markdown",
   "metadata": {},
   "source": [
    "Посмотрим основные статистические показатели по колонкам, содержащим числовые данные:"
   ]
  },
  {
   "cell_type": "code",
   "execution_count": 33,
   "metadata": {},
   "outputs": [
    {
     "name": "stdout",
     "output_type": "stream",
     "text": [
      "         population          area   migration    literacy\n",
      "count  2.270000e+02  2.270000e+02  224.000000  209.000000\n",
      "mean   2.874028e+07  5.982270e+05    0.038125   82.838278\n",
      "std    1.178913e+08  1.790282e+06    4.889269   19.722173\n",
      "min    7.026000e+03  2.000000e+00  -20.990000   17.600000\n",
      "25%    4.376240e+05  4.647500e+03   -0.927500   70.600000\n",
      "50%    4.786994e+06  8.660000e+04    0.000000   92.500000\n",
      "75%    1.749777e+07  4.418110e+05    0.997500   98.000000\n",
      "max    1.313974e+09  1.707520e+07   23.060000  100.000000\n"
     ]
    }
   ],
   "source": [
    "print(data.describe())"
   ]
  },
  {
   "cell_type": "markdown",
   "metadata": {},
   "source": [
    "Аномалий в данных не выявлено: в колонках \"population\" и \"area\" все показатели положительные, в колонке \"migration\" есть как положительные, так и отрицательные значения, что явлется нормой для этого показателя, в колонке \"literacy\" шкала измерения %, судя по минимальному и максимальному значениям, данные находятся в пределах от 0 до 100 %."
   ]
  },
  {
   "cell_type": "markdown",
   "metadata": {},
   "source": [
    "Посмотрим строки, содержащие NaN значения:"
   ]
  },
  {
   "cell_type": "code",
   "execution_count": 34,
   "metadata": {},
   "outputs": [
    {
     "name": "stdout",
     "output_type": "stream",
     "text": [
      "                   country                               region  population  \\\n",
      "25   Bosnia & Herzegovina   EASTERN EUROPE                          4498976   \n",
      "47           Cook Islands   OCEANIA                                   21388   \n",
      "66          Faroe Islands   WESTERN EUROPE                            47246   \n",
      "74             Gaza Strip   NEAR EAST                               1428757   \n",
      "78              Gibraltar   WESTERN EUROPE                            27928   \n",
      "80              Greenland   NORTHERN AMERICA                          56361   \n",
      "85               Guernsey   WESTERN EUROPE                            65409   \n",
      "99            Isle of Man   WESTERN EUROPE                            75441   \n",
      "104                Jersey   WESTERN EUROPE                            91084   \n",
      "108              Kiribati   OCEANIA                                  105432   \n",
      "123             Macedonia   EASTERN EUROPE                          2050554   \n",
      "134               Mayotte   SUB-SAHARAN AFRICA                       201234   \n",
      "144                 Nauru   OCEANIA                                   13287   \n",
      "185              Slovakia   EASTERN EUROPE                          5439448   \n",
      "187       Solomon Islands   OCEANIA                                  552438   \n",
      "209                Tuvalu   OCEANIA                                   11810   \n",
      "220        Virgin Islands               LATIN AMER. & CARIB          108605   \n",
      "221     Wallis and Futuna   OCEANIA                                   16025   \n",
      "222             West Bank   NEAR EAST                               2460492   \n",
      "223        Western Sahara   NORTHERN AFRICA                          273008   \n",
      "\n",
      "        area  migration  literacy  \n",
      "25     51129       0.31       NaN  \n",
      "47       240        NaN      95.0  \n",
      "66      1399       1.41       NaN  \n",
      "74       360       1.60       NaN  \n",
      "78         7       0.00       NaN  \n",
      "80   2166086      -8.37       NaN  \n",
      "85        78       3.84       NaN  \n",
      "99       572       5.36       NaN  \n",
      "104      116       2.76       NaN  \n",
      "108      811       0.00       NaN  \n",
      "123    25333      -1.45       NaN  \n",
      "134      374       6.78       NaN  \n",
      "144       21       0.00       NaN  \n",
      "185    48845       0.30       NaN  \n",
      "187    28450       0.00       NaN  \n",
      "209       26       0.00       NaN  \n",
      "220     1910      -8.94       NaN  \n",
      "221      274        NaN      50.0  \n",
      "222     5860       2.98       NaN  \n",
      "223   266000        NaN       NaN  \n"
     ]
    }
   ],
   "source": [
    "data_na = data[data.isna().any(axis=1)]\n",
    "print (data_na)"
   ]
  },
  {
   "cell_type": "markdown",
   "metadata": {},
   "source": [
    "Не будем исключать эти строки из таблицы, так как они содержат необходимую информацию для ответа на вопрос о медианной площади  стран океании и понадобятся для визуализации данных о численности населения в странах. Но обратим внимание на то, что надо будет исключить NaN  при расчете уровня грамотности и миграции."
   ]
  },
  {
   "cell_type": "markdown",
   "metadata": {},
   "source": [
    "В столбце \"region\" в 220 строке был замечен регион \"            LATIN AMER. & CARIB\", в котором присутствуют лишние пробелы, удалим возможные лишние пробелы в начале и в конце строки в столбцах \"country\" и \"region\":"
   ]
  },
  {
   "cell_type": "code",
   "execution_count": 35,
   "metadata": {},
   "outputs": [],
   "source": [
    "data['country'] = data['country'].str.strip()\n",
    "data['region'] = data['region'].str.strip()"
   ]
  },
  {
   "cell_type": "markdown",
   "metadata": {},
   "source": [
    "## 1. Посчитать медианное значение площади стран Океании."
   ]
  },
  {
   "cell_type": "code",
   "execution_count": 36,
   "metadata": {},
   "outputs": [
    {
     "name": "stdout",
     "output_type": "stream",
     "text": [
      "Median of Oceania area is 811.0 sq. mi\n"
     ]
    }
   ],
   "source": [
    "# группируем страны океании в отдельную таблицу\n",
    "data_oceania = data.loc[data['region'] == 'OCEANIA']\n",
    "\n",
    "# считаем медианное значения площади стран океании\n",
    "oceania_area_median = data_oceania.loc[:,\"area\"].median() \n",
    "\n",
    "# выводим результат\n",
    "print(\"Median of Oceania area is\", oceania_area_median, \"sq. mi\") "
   ]
  },
  {
   "cell_type": "markdown",
   "metadata": {},
   "source": [
    "## 2. Определить 10 стран с наименьшим уровнем грамотности."
   ]
  },
  {
   "cell_type": "code",
   "execution_count": 37,
   "metadata": {},
   "outputs": [
    {
     "name": "stdout",
     "output_type": "stream",
     "text": [
      "10 countries with low literacy level:\n",
      "          country  literacy\n",
      "151         Niger      17.6\n",
      "31   Burkina Faso      26.6\n",
      "183  Sierra Leone      31.4\n",
      "86         Guinea      35.9\n",
      "0     Afghanistan      36.0\n",
      "188       Somalia      37.8\n",
      "73    Gambia, The      40.1\n",
      "180       Senegal      40.2\n",
      "97           Iraq      40.4\n",
      "21          Benin      40.9\n"
     ]
    }
   ],
   "source": [
    "# выбираем нужные столбцы\n",
    "data_literacy = data.filter(['country', 'literacy'], axis=1) \n",
    "\n",
    "# исключаем строки, содержащие NaN значения\n",
    "data_literacy = data_literacy.dropna(subset=['literacy'])\n",
    "\n",
    "# сортируем значения в порядке возрастания\n",
    "data_literacy = data_literacy.sort_values('literacy')\n",
    "\n",
    "# выбираем первые 10 строк\n",
    "data_literacy = data_literacy[:10]\n",
    "\n",
    "# выводим 10 стран с наименьшим уровнем грамотности\n",
    "print('10 countries with low literacy level:')\n",
    "print(data_literacy) # "
   ]
  },
  {
   "cell_type": "markdown",
   "metadata": {},
   "source": [
    "## 3. Построить график суммарной численности населения в разбивке по регионам."
   ]
  },
  {
   "cell_type": "markdown",
   "metadata": {},
   "source": [
    "Наибольшая численность населения в Азии, наименьшая в странах Балтики."
   ]
  },
  {
   "cell_type": "code",
   "execution_count": 38,
   "metadata": {},
   "outputs": [],
   "source": [
    "# выбираем нужные столбцы\n",
    "data_pr = data.filter(['region', 'population'], axis=1) \n",
    "\n",
    "# группируем страны по регионам и считаем численность населения в каждом регионе (сумма по странам)\n",
    "data_pr = data_pr.groupby('region', as_index=False)[['population']].sum()"
   ]
  },
  {
   "cell_type": "code",
   "execution_count": 42,
   "metadata": {
    "scrolled": false
   },
   "outputs": [
    {
     "data": {
      "image/svg+xml": [
       "<svg class=\"main-svg\" xmlns=\"http://www.w3.org/2000/svg\" xmlns:xlink=\"http://www.w3.org/1999/xlink\" width=\"700\" height=\"450\" style=\"\" viewBox=\"0 0 700 450\"><rect x=\"0\" y=\"0\" width=\"700\" height=\"450\" style=\"fill: rgb(255, 255, 255); fill-opacity: 1;\"/><defs id=\"defs-a4f099\"><g class=\"clips\"><clipPath id=\"clipa4f099xyplot\" class=\"plotclip\"><rect width=\"540\" height=\"275\"/></clipPath><clipPath class=\"axesclip\" id=\"clipa4f099x\"><rect x=\"80\" y=\"0\" width=\"540\" height=\"450\"/></clipPath><clipPath class=\"axesclip\" id=\"clipa4f099y\"><rect x=\"0\" y=\"60\" width=\"700\" height=\"275\"/></clipPath><clipPath class=\"axesclip\" id=\"clipa4f099xy\"><rect x=\"80\" y=\"60\" width=\"540\" height=\"275\"/></clipPath></g><g class=\"gradients\"/></defs><g class=\"bglayer\"><rect class=\"bg\" x=\"80\" y=\"60\" width=\"540\" height=\"275\" style=\"fill: rgb(229, 236, 246); fill-opacity: 1; stroke-width: 0;\"/></g><g class=\"layer-below\"><g class=\"imagelayer\"/><g class=\"shapelayer\"/></g><g class=\"cartesianlayer\"><g class=\"subplot xy\"><g class=\"layer-subplot\"><g class=\"shapelayer\"/><g class=\"imagelayer\"/></g><g class=\"gridlayer\"><g class=\"x\"/><g class=\"y\"><path class=\"ygrid crisp\" transform=\"translate(0,299.58000000000004)\" d=\"M80,0h540\" style=\"stroke: rgb(255, 255, 255); stroke-opacity: 1; stroke-width: 1px;\"/><path class=\"ygrid crisp\" transform=\"translate(0,264.15999999999997)\" d=\"M80,0h540\" style=\"stroke: rgb(255, 255, 255); stroke-opacity: 1; stroke-width: 1px;\"/><path class=\"ygrid crisp\" transform=\"translate(0,228.74)\" d=\"M80,0h540\" style=\"stroke: rgb(255, 255, 255); stroke-opacity: 1; stroke-width: 1px;\"/><path class=\"ygrid crisp\" transform=\"translate(0,193.32)\" d=\"M80,0h540\" style=\"stroke: rgb(255, 255, 255); stroke-opacity: 1; stroke-width: 1px;\"/><path class=\"ygrid crisp\" transform=\"translate(0,157.9)\" d=\"M80,0h540\" style=\"stroke: rgb(255, 255, 255); stroke-opacity: 1; stroke-width: 1px;\"/><path class=\"ygrid crisp\" transform=\"translate(0,122.49000000000001)\" d=\"M80,0h540\" style=\"stroke: rgb(255, 255, 255); stroke-opacity: 1; stroke-width: 1px;\"/><path class=\"ygrid crisp\" transform=\"translate(0,87.07)\" d=\"M80,0h540\" style=\"stroke: rgb(255, 255, 255); stroke-opacity: 1; stroke-width: 1px;\"/></g></g><g class=\"zerolinelayer\"><path class=\"yzl zl crisp\" transform=\"translate(0,335)\" d=\"M80,0h540\" style=\"stroke: rgb(255, 255, 255); stroke-opacity: 1; stroke-width: 2px;\"/></g><path class=\"xlines-below\"/><path class=\"ylines-below\"/><g class=\"overlines-below\"/><g class=\"xaxislayer-below\"/><g class=\"yaxislayer-below\"/><g class=\"overaxes-below\"/><g class=\"plot\" transform=\"translate(80, 60)\" clip-path=\"url('#clipa4f099xyplot')\"><g class=\"barlayer mlayer\"><g class=\"trace bars\" style=\"opacity: 1;\"><g class=\"points\"><g class=\"point\"><path d=\"M4.91,275V13.75H44.18V275Z\" style=\"vector-effect: non-scaling-stroke; opacity: 1; stroke-width: 0.5px; fill: rgb(99, 110, 250); fill-opacity: 1; stroke: rgb(229, 236, 246); stroke-opacity: 1;\"/></g><g class=\"point\"><path d=\"M54,275V274.49H93.27V275Z\" style=\"vector-effect: non-scaling-stroke; opacity: 1; stroke-width: 0.5px; fill: rgb(99, 110, 250); fill-opacity: 1; stroke: rgb(229, 236, 246); stroke-opacity: 1;\"/></g><g class=\"point\"><path d=\"M103.09,275V255.16H142.36V275Z\" style=\"vector-effect: non-scaling-stroke; opacity: 1; stroke-width: 0.5px; fill: rgb(99, 110, 250); fill-opacity: 1; stroke: rgb(229, 236, 246); stroke-opacity: 1;\"/></g><g class=\"point\"><path d=\"M152.18,275V266.51H191.45V275Z\" style=\"vector-effect: non-scaling-stroke; opacity: 1; stroke-width: 0.5px; fill: rgb(99, 110, 250); fill-opacity: 1; stroke: rgb(229, 236, 246); stroke-opacity: 1;\"/></g><g class=\"point\"><path d=\"M201.27,275V235.2H240.55V275Z\" style=\"vector-effect: non-scaling-stroke; opacity: 1; stroke-width: 0.5px; fill: rgb(99, 110, 250); fill-opacity: 1; stroke: rgb(229, 236, 246); stroke-opacity: 1;\"/></g><g class=\"point\"><path d=\"M250.36,275V261.18H289.64V275Z\" style=\"vector-effect: non-scaling-stroke; opacity: 1; stroke-width: 0.5px; fill: rgb(99, 110, 250); fill-opacity: 1; stroke: rgb(229, 236, 246); stroke-opacity: 1;\"/></g><g class=\"point\"><path d=\"M299.45,275V263.57H338.73V275Z\" style=\"vector-effect: non-scaling-stroke; opacity: 1; stroke-width: 0.5px; fill: rgb(99, 110, 250); fill-opacity: 1; stroke: rgb(229, 236, 246); stroke-opacity: 1;\"/></g><g class=\"point\"><path d=\"M348.55,275V251.5H387.82V275Z\" style=\"vector-effect: non-scaling-stroke; opacity: 1; stroke-width: 0.5px; fill: rgb(99, 110, 250); fill-opacity: 1; stroke: rgb(229, 236, 246); stroke-opacity: 1;\"/></g><g class=\"point\"><path d=\"M397.64,275V272.65H436.91V275Z\" style=\"vector-effect: non-scaling-stroke; opacity: 1; stroke-width: 0.5px; fill: rgb(99, 110, 250); fill-opacity: 1; stroke: rgb(229, 236, 246); stroke-opacity: 1;\"/></g><g class=\"point\"><path d=\"M446.73,275V221.91H486V275Z\" style=\"vector-effect: non-scaling-stroke; opacity: 1; stroke-width: 0.5px; fill: rgb(99, 110, 250); fill-opacity: 1; stroke: rgb(229, 236, 246); stroke-opacity: 1;\"/></g><g class=\"point\"><path d=\"M495.82,275V246.92H535.09V275Z\" style=\"vector-effect: non-scaling-stroke; opacity: 1; stroke-width: 0.5px; fill: rgb(99, 110, 250); fill-opacity: 1; stroke: rgb(229, 236, 246); stroke-opacity: 1;\"/></g></g></g></g></g><g class=\"overplot\"/><path class=\"xlines-above crisp\" d=\"M0,0\" style=\"fill: none;\"/><path class=\"ylines-above crisp\" d=\"M0,0\" style=\"fill: none;\"/><g class=\"overlines-above\"/><g class=\"xaxislayer-above\"><g class=\"xtick\"><text text-anchor=\"start\" x=\"0\" y=\"348\" transform=\"translate(104.55,0) rotate(30,0,342)\" style=\"font-family: 'Open Sans', verdana, arial, sans-serif; font-size: 12px; fill: rgb(42, 63, 95); fill-opacity: 1; white-space: pre;\">ASIA (EX. NEAR EAST)</text></g><g class=\"xtick\"><text text-anchor=\"start\" x=\"0\" y=\"348\" transform=\"translate(153.64,0) rotate(30,0,342)\" style=\"font-family: 'Open Sans', verdana, arial, sans-serif; font-size: 12px; fill: rgb(42, 63, 95); fill-opacity: 1; white-space: pre;\">BALTICS</text></g><g class=\"xtick\"><text text-anchor=\"start\" x=\"0\" y=\"348\" transform=\"translate(202.73000000000002,0) rotate(30,0,342)\" style=\"font-family: 'Open Sans', verdana, arial, sans-serif; font-size: 12px; fill: rgb(42, 63, 95); fill-opacity: 1; white-space: pre;\">C.W. OF IND. STATES</text></g><g class=\"xtick\"><text text-anchor=\"start\" x=\"0\" y=\"348\" transform=\"translate(251.82,0) rotate(30,0,342)\" style=\"font-family: 'Open Sans', verdana, arial, sans-serif; font-size: 12px; fill: rgb(42, 63, 95); fill-opacity: 1; white-space: pre;\">EASTERN EUROPE</text></g><g class=\"xtick\"><text text-anchor=\"start\" x=\"0\" y=\"348\" transform=\"translate(300.90999999999997,0) rotate(30,0,342)\" style=\"font-family: 'Open Sans', verdana, arial, sans-serif; font-size: 12px; fill: rgb(42, 63, 95); fill-opacity: 1; white-space: pre;\">LATIN AMER. &amp; CARIB</text></g><g class=\"xtick\"><text text-anchor=\"start\" x=\"0\" y=\"348\" transform=\"translate(350,0) rotate(30,0,342)\" style=\"font-family: 'Open Sans', verdana, arial, sans-serif; font-size: 12px; fill: rgb(42, 63, 95); fill-opacity: 1; white-space: pre;\">NEAR EAST</text></g><g class=\"xtick\"><text text-anchor=\"start\" x=\"0\" y=\"348\" transform=\"translate(399.09,0) rotate(30,0,342)\" style=\"font-family: 'Open Sans', verdana, arial, sans-serif; font-size: 12px; fill: rgb(42, 63, 95); fill-opacity: 1; white-space: pre;\">NORTHERN AFRICA</text></g><g class=\"xtick\"><text text-anchor=\"start\" x=\"0\" y=\"348\" transform=\"translate(448.18,0) rotate(30,0,342)\" style=\"font-family: 'Open Sans', verdana, arial, sans-serif; font-size: 12px; fill: rgb(42, 63, 95); fill-opacity: 1; white-space: pre;\">NORTHERN AMERICA</text></g><g class=\"xtick\"><text text-anchor=\"start\" x=\"0\" y=\"348\" transform=\"translate(497.27,0) rotate(30,0,342)\" style=\"font-family: 'Open Sans', verdana, arial, sans-serif; font-size: 12px; fill: rgb(42, 63, 95); fill-opacity: 1; white-space: pre;\">OCEANIA</text></g><g class=\"xtick\"><text text-anchor=\"start\" x=\"0\" y=\"348\" transform=\"translate(546.36,0) rotate(30,0,342)\" style=\"font-family: 'Open Sans', verdana, arial, sans-serif; font-size: 12px; fill: rgb(42, 63, 95); fill-opacity: 1; white-space: pre;\">SUB-SAHARAN AFRICA</text></g><g class=\"xtick\"><text text-anchor=\"start\" x=\"0\" y=\"348\" transform=\"translate(595.45,0) rotate(30,0,342)\" style=\"font-family: 'Open Sans', verdana, arial, sans-serif; font-size: 12px; fill: rgb(42, 63, 95); fill-opacity: 1; white-space: pre;\">WESTERN EUROPE</text></g></g><g class=\"yaxislayer-above\"><g class=\"ytick\"><text text-anchor=\"end\" x=\"79\" y=\"4.199999999999999\" transform=\"translate(0,335)\" style=\"font-family: 'Open Sans', verdana, arial, sans-serif; font-size: 12px; fill: rgb(42, 63, 95); fill-opacity: 1; white-space: pre;\">0</text></g><g class=\"ytick\"><text text-anchor=\"end\" x=\"79\" y=\"4.199999999999999\" transform=\"translate(0,299.58000000000004)\" style=\"font-family: 'Open Sans', verdana, arial, sans-serif; font-size: 12px; fill: rgb(42, 63, 95); fill-opacity: 1; white-space: pre;\">0.5B</text></g><g class=\"ytick\"><text text-anchor=\"end\" x=\"79\" y=\"4.199999999999999\" transform=\"translate(0,264.15999999999997)\" style=\"font-family: 'Open Sans', verdana, arial, sans-serif; font-size: 12px; fill: rgb(42, 63, 95); fill-opacity: 1; white-space: pre;\">1B</text></g><g class=\"ytick\"><text text-anchor=\"end\" x=\"79\" y=\"4.199999999999999\" transform=\"translate(0,228.74)\" style=\"font-family: 'Open Sans', verdana, arial, sans-serif; font-size: 12px; fill: rgb(42, 63, 95); fill-opacity: 1; white-space: pre;\">1.5B</text></g><g class=\"ytick\"><text text-anchor=\"end\" x=\"79\" y=\"4.199999999999999\" transform=\"translate(0,193.32)\" style=\"font-family: 'Open Sans', verdana, arial, sans-serif; font-size: 12px; fill: rgb(42, 63, 95); fill-opacity: 1; white-space: pre;\">2B</text></g><g class=\"ytick\"><text text-anchor=\"end\" x=\"79\" y=\"4.199999999999999\" transform=\"translate(0,157.9)\" style=\"font-family: 'Open Sans', verdana, arial, sans-serif; font-size: 12px; fill: rgb(42, 63, 95); fill-opacity: 1; white-space: pre;\">2.5B</text></g><g class=\"ytick\"><text text-anchor=\"end\" x=\"79\" y=\"4.199999999999999\" transform=\"translate(0,122.49000000000001)\" style=\"font-family: 'Open Sans', verdana, arial, sans-serif; font-size: 12px; fill: rgb(42, 63, 95); fill-opacity: 1; white-space: pre;\">3B</text></g><g class=\"ytick\"><text text-anchor=\"end\" x=\"79\" y=\"4.199999999999999\" transform=\"translate(0,87.07)\" style=\"font-family: 'Open Sans', verdana, arial, sans-serif; font-size: 12px; fill: rgb(42, 63, 95); fill-opacity: 1; white-space: pre;\">3.5B</text></g></g><g class=\"overaxes-above\"/></g></g><g class=\"polarlayer\"/><g class=\"ternarylayer\"/><g class=\"geolayer\"/><g class=\"funnelarealayer\"/><g class=\"pielayer\"/><g class=\"treemaplayer\"/><g class=\"sunburstlayer\"/><g class=\"glimages\"/><defs id=\"topdefs-a4f099\"><g class=\"clips\"/></defs><g class=\"layer-above\"><g class=\"imagelayer\"/><g class=\"shapelayer\"/></g><g class=\"infolayer\"><g class=\"g-gtitle\"/><g class=\"g-xtitle\"><text class=\"xtitle\" x=\"350\" y=\"437.90546875\" text-anchor=\"middle\" style=\"font-family: 'Open Sans', verdana, arial, sans-serif; font-size: 14px; fill: rgb(42, 63, 95); opacity: 1; font-weight: normal; white-space: pre;\">region</text></g><g class=\"g-ytitle\"><text class=\"ytitle\" transform=\"rotate(-90,29.496875000000003,197.5)\" x=\"29.496875000000003\" y=\"197.5\" text-anchor=\"middle\" style=\"font-family: 'Open Sans', verdana, arial, sans-serif; font-size: 14px; fill: rgb(42, 63, 95); opacity: 1; font-weight: normal; white-space: pre;\">population</text></g></g></svg>"
      ]
     },
     "metadata": {},
     "output_type": "display_data"
    }
   ],
   "source": [
    "fig = px.bar(data_pr, x='region', y='population')\n",
    "# Производим рендер графика в статическое изображение для того, чтобы он беспроблемно отображался в сети\n",
    "fig.show('svg')"
   ]
  },
  {
   "cell_type": "markdown",
   "metadata": {},
   "source": [
    "## 4. На основании данных, ответить на вопрос, в каком регионе наблюдается наибольший миграционный отток населения."
   ]
  },
  {
   "cell_type": "code",
   "execution_count": 40,
   "metadata": {},
   "outputs": [
    {
     "name": "stdout",
     "output_type": "stream",
     "text": [
      "The highest emigration rate is in BALTICS region.\n",
      "It's Net migration rate is -1.64\n"
     ]
    }
   ],
   "source": [
    "# выбираем нужные столбцы\n",
    "data_mr= data.filter(['region', 'population', 'migration'], axis=1) \n",
    "\n",
    "# исключаем строки, содержащие NaN значения\n",
    "data_mr = data_mr.dropna(subset=['migration']) \n",
    "\n",
    "# cчитаем (имигранты-эмигранты) страны = (численность населения страны* (коэф.миграционного прироста страны))/1000\n",
    "data_mr['delta'] = (data_mr.population*data_mr.migration)/1000 \n",
    "\n",
    "# группируем данные по регионам, считаем суммарные значения численности населения региона \n",
    "# и количество (имигранты-эмигранты) региона\n",
    "data_mr = data_mr.groupby('region', as_index=False)[['population', 'delta']].sum()\n",
    "\n",
    "# считаем коэф. миграционного прироста по регионам = \n",
    "# = (количество (имигранты-эмигранты) региона / суммарные значения численности населения региона)*1000\n",
    "data_mr['migration_reg'] = (data_mr.delta / data_mr.population)*1000\n",
    "\n",
    "# создаем таблицу из 1-й строки, содержащей информацию по региону, \n",
    "# количеству (имигранты-эмигранты) региона,коэф. миграционного прироста по региону с наибольшим миграционным оттоком населения\n",
    "data_mr = data_mr[['region', 'delta', 'migration_reg']][data_mr.migration_reg == data_mr.migration_reg.min()]\n",
    "\n",
    "# вывод ответа на вопрос\n",
    "print('The highest emigration rate is in', data_mr.at[1,'region'], 'region.')\n",
    "print('It\\'s Net migration rate is', round(data_mr.at[1,'migration_reg'],2))"
   ]
  }
 ],
 "metadata": {
  "kernelspec": {
   "display_name": "Python 3",
   "language": "python",
   "name": "python3"
  },
  "language_info": {
   "codemirror_mode": {
    "name": "ipython",
    "version": 3
   },
   "file_extension": ".py",
   "mimetype": "text/x-python",
   "name": "python",
   "nbconvert_exporter": "python",
   "pygments_lexer": "ipython3",
   "version": "3.8.5"
  }
 },
 "nbformat": 4,
 "nbformat_minor": 4
}
